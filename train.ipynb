{
 "cells": [
  {
   "cell_type": "code",
   "execution_count": 1,
   "id": "6bf5cbd6-ed65-4ee8-a1d4-ac929f6d20ef",
   "metadata": {},
   "outputs": [
    {
     "name": "stdout",
     "output_type": "stream",
     "text": [
      "Wed Jan  4 08:24:30 2023       \n",
      "+-----------------------------------------------------------------------------+\n",
      "| NVIDIA-SMI 470.141.03   Driver Version: 470.141.03   CUDA Version: 11.4     |\n",
      "|-------------------------------+----------------------+----------------------+\n",
      "| GPU  Name        Persistence-M| Bus-Id        Disp.A | Volatile Uncorr. ECC |\n",
      "| Fan  Temp  Perf  Pwr:Usage/Cap|         Memory-Usage | GPU-Util  Compute M. |\n",
      "|                               |                      |               MIG M. |\n",
      "|===============================+======================+======================|\n",
      "|   0  Tesla T4            On   | 00000000:00:1C.0 Off |                    0 |\n",
      "| N/A   25C    P8     9W /  70W |      0MiB / 15109MiB |      0%      Default |\n",
      "|                               |                      |                  N/A |\n",
      "+-------------------------------+----------------------+----------------------+\n",
      "|   1  Tesla T4            On   | 00000000:00:1D.0 Off |                    0 |\n",
      "| N/A   25C    P8     9W /  70W |      0MiB / 15109MiB |      0%      Default |\n",
      "|                               |                      |                  N/A |\n",
      "+-------------------------------+----------------------+----------------------+\n",
      "|   2  Tesla T4            On   | 00000000:00:1E.0 Off |                    0 |\n",
      "| N/A   25C    P8     9W /  70W |      0MiB / 15109MiB |      0%      Default |\n",
      "|                               |                      |                  N/A |\n",
      "+-------------------------------+----------------------+----------------------+\n",
      "                                                                               \n",
      "+-----------------------------------------------------------------------------+\n",
      "| Processes:                                                                  |\n",
      "|  GPU   GI   CI        PID   Type   Process name                  GPU Memory |\n",
      "|        ID   ID                                                   Usage      |\n",
      "|=============================================================================|\n",
      "|  No running processes found                                                 |\n",
      "+-----------------------------------------------------------------------------+\n"
     ]
    }
   ],
   "source": [
    "!nvidia-smi"
   ]
  },
  {
   "cell_type": "code",
   "execution_count": 6,
   "id": "94f150c9-5b0b-444f-a8f6-9ce7079453b2",
   "metadata": {},
   "outputs": [
    {
     "name": "stderr",
     "output_type": "stream",
     "text": [
      "/usr/local/lib/python3.10/dist-packages/tqdm/auto.py:22: TqdmWarning: IProgress not found. Please update jupyter and ipywidgets. See https://ipywidgets.readthedocs.io/en/stable/user_install.html\n",
      "  from .autonotebook import tqdm as notebook_tqdm\n"
     ]
    }
   ],
   "source": [
    "import torch\n",
    "import numpy as np\n",
    "import matplotlib.pyplot as plt"
   ]
  },
  {
   "cell_type": "code",
   "execution_count": 7,
   "id": "bb74dd68-e068-44bf-8fb0-c9bb480afd88",
   "metadata": {},
   "outputs": [],
   "source": [
    "import torchvision\n",
    "import torchvision.transforms as transforms"
   ]
  },
  {
   "cell_type": "code",
   "execution_count": 8,
   "id": "e3a20466-78e6-4aad-a33e-48e2d87e1275",
   "metadata": {},
   "outputs": [
    {
     "name": "stdout",
     "output_type": "stream",
     "text": [
      "Downloading https://www.cs.toronto.edu/~kriz/cifar-10-python.tar.gz to ./data/cifar-10-python.tar.gz\n"
     ]
    },
    {
     "name": "stderr",
     "output_type": "stream",
     "text": [
      "100%|██████████| 170498071/170498071 [00:04<00:00, 34456229.22it/s]\n"
     ]
    },
    {
     "name": "stdout",
     "output_type": "stream",
     "text": [
      "Extracting ./data/cifar-10-python.tar.gz to ./data\n"
     ]
    }
   ],
   "source": [
    "trainset=torchvision.datasets.CIFAR10(root='./data',train=True,download=True,transform=transforms.ToTensor())"
   ]
  },
  {
   "cell_type": "code",
   "execution_count": 9,
   "id": "e2702e31-880b-4c2c-a106-8ccaadad275e",
   "metadata": {},
   "outputs": [],
   "source": [
    "classes = ('plane', 'car', 'bird', 'cat', 'deer', 'dog', 'frog', 'horse', 'ship', 'truck')"
   ]
  },
  {
   "cell_type": "code",
   "execution_count": 10,
   "id": "6be3923b-beda-41d3-b5f7-e6dbcbba3ff2",
   "metadata": {},
   "outputs": [],
   "source": [
    "trainloader = torch.utils.data.DataLoader(trainset , batch_size=4 , shuffle=True)"
   ]
  },
  {
   "cell_type": "code",
   "execution_count": 12,
   "id": "272d33f3-8e25-437d-a241-3652a7b448ca",
   "metadata": {},
   "outputs": [
    {
     "name": "stdout",
     "output_type": "stream",
     "text": [
      "torch.Size([4, 3, 32, 32])\n"
     ]
    }
   ],
   "source": [
    "dataiter = iter(trainloader)\n",
    "images,labels = next(dataiter)\n",
    "\n",
    "print(images.shape)"
   ]
  },
  {
   "cell_type": "code",
   "execution_count": 14,
   "id": "605d68b5-9b15-4273-82db-23e65c501480",
   "metadata": {},
   "outputs": [
    {
     "name": "stdout",
     "output_type": "stream",
     "text": [
      "<class 'torch.Tensor'>\n",
      "<class 'numpy.ndarray'>\n",
      "(3, 32, 32)\n"
     ]
    }
   ],
   "source": [
    "img=images[0]\n",
    "print(type(img))\n",
    "npimg=img.numpy()\n",
    "print(type(npimg))\n",
    "print(npimg.shape)"
   ]
  },
  {
   "cell_type": "code",
   "execution_count": 15,
   "id": "9bea6749-aea6-47c4-b35e-d0e586b83bde",
   "metadata": {},
   "outputs": [
    {
     "name": "stdout",
     "output_type": "stream",
     "text": [
      "(32, 32, 3)\n"
     ]
    }
   ],
   "source": [
    "npimg=np.transpose(npimg,(1,2,0))\n",
    "print(npimg.shape)"
   ]
  },
  {
   "cell_type": "code",
   "execution_count": 16,
   "id": "f1bb23f2-9a2a-4079-ba95-50fa25f3f05a",
   "metadata": {},
   "outputs": [
    {
     "data": {
      "image/png": "[encoded data removed]",
      "text/plain": [
       "<Figure size 100x100 with 1 Axes>"
      ]
     },
     "metadata": {},
     "output_type": "display_data"
    }
   ],
   "source": [
    "plt.figure(figsize=(1,1))\n",
    "plt.imshow(npimg)\n",
    "plt.show()"
   ]
  },
  {
   "cell_type": "code",
   "execution_count": 17,
   "id": "d2b27118-0c0c-45f9-bbd4-853bc6d40baf",
   "metadata": {},
   "outputs": [],
   "source": [
    "def imshow(img):\n",
    "  npimg=img.numpy()\n",
    "  plt.imshow(np.transpose(npimg,(1,2,0)))\n",
    "  plt.show()"
   ]
  },
  {
   "cell_type": "code",
   "execution_count": 18,
   "id": "96187b51-504f-4ad1-8237-36b9b68f4ea3",
   "metadata": {},
   "outputs": [
    {
     "data": {
      "image/png": "[encoded data removed]",
      "text/plain": [
       "<Figure size 640x480 with 1 Axes>"
      ]
     },
     "metadata": {},
     "output_type": "display_data"
    },
    {
     "name": "stdout",
     "output_type": "stream",
     "text": [
      "truck dog frog dog\n"
     ]
    }
   ],
   "source": [
    "imshow(torchvision.utils.make_grid(images))\n",
    "print(' '.join(classes[labels[j]] for j in range(4)))"
   ]
  },
  {
   "cell_type": "code",
   "execution_count": 21,
   "id": "da71fcd6-3216-4533-ada9-a5efabea03e6",
   "metadata": {},
   "outputs": [
    {
     "name": "stdout",
     "output_type": "stream",
     "text": [
      "cpu\n"
     ]
    }
   ],
   "source": [
    "# device=torch.device(\"cuda:0\" if torch.cuda.is_available() else \"cpu\")\n",
    "device = \"cpu\"\n",
    "print(device)"
   ]
  },
  {
   "cell_type": "code",
   "execution_count": 23,
   "id": "9dff7930-22a3-4b95-a795-f78f56e3dafc",
   "metadata": {},
   "outputs": [],
   "source": [
    "import torch.nn as nn"
   ]
  },
  {
   "cell_type": "code",
   "execution_count": 24,
   "id": "2a8b3566-108f-4b89-92b0-66db8ea566b9",
   "metadata": {},
   "outputs": [],
   "source": [
    "class LeNet(nn.Module):\n",
    "  def __init__(self):\n",
    "    super(LeNet,self).__init__()\n",
    "    self.cnn_model=nn.Sequential(\n",
    "        nn.Conv2d(3,6,5),         #(N,3,32,32)->(N,6,28,28)\n",
    "        nn.Tanh(),\n",
    "        nn.AvgPool2d(2,stride=2), #(N,6,28,28)->(N,6,14,14)\n",
    "        nn.Conv2d(6,16,5),        #(N,6,14,14)->(N,16,10,10)\n",
    "        nn.Tanh(),\n",
    "        nn.AvgPool2d(2,stride=2)  #(N,16,10,10)->(N,16,5,5)  ,  total no.of features per image=16*5*5=400 \n",
    "    )\n",
    "    self.fc_model=nn.Sequential(\n",
    "        nn.Linear(400,120),       #(N,400)->(N,120)\n",
    "        nn.Tanh(),\n",
    "        nn.Linear(120,84),        #(N,120)->(N,84)\n",
    "        nn.Tanh(),\n",
    "        nn.Linear(84,10)          #(N,84)->(N,10)\n",
    "    )\n",
    "\n",
    "  def forward(self,x):\n",
    "    #print(x.shape)\n",
    "    x=self.cnn_model(x)\n",
    "    #print(x.shape)\n",
    "    x=x.view(x.size(0),-1)\n",
    "    #print(x.shape)\n",
    "    x=self.fc_model(x)\n",
    "    #print(x.shape)\n",
    "    return x"
   ]
  },
  {
   "cell_type": "code",
   "execution_count": 25,
   "id": "9a304a5f-69d8-4181-b9df-0f7fcfb52b9c",
   "metadata": {},
   "outputs": [
    {
     "name": "stdout",
     "output_type": "stream",
     "text": [
      "Files already downloaded and verified\n",
      "Files already downloaded and verified\n"
     ]
    }
   ],
   "source": [
    "batch_size = 128\n",
    "trainset = torchvision.datasets.CIFAR10(root='./data', train=True, download=True, transform=transforms.ToTensor())\n",
    "trainloader = torch.utils.data.DataLoader(trainset, batch_size=batch_size, shuffle=True)\n",
    "testset = torchvision.datasets.CIFAR10(root='./data', train=False, download=True, transform=transforms.ToTensor())\n",
    "testloader = torch.utils.data.DataLoader(testset, batch_size=batch_size, shuffle=False)"
   ]
  },
  {
   "cell_type": "code",
   "execution_count": 26,
   "id": "2771809f-5ffa-47ad-ac5c-d1071c5908c6",
   "metadata": {},
   "outputs": [],
   "source": [
    "def evaluation(dataloader):  #for computing accuracy\n",
    "    total, correct = 0, 0\n",
    "    for data in dataloader:\n",
    "        inputs, labels = data\n",
    "        outputs = net(inputs)\n",
    "        _, pred = torch.max(outputs.data, 1)\n",
    "        total += labels.size(0)\n",
    "        correct += (pred == labels).sum().item()\n",
    "    return 100 * correct / total"
   ]
  },
  {
   "cell_type": "code",
   "execution_count": 27,
   "id": "2dd5ed0a-bca5-4016-8a29-96fc0d97ea79",
   "metadata": {},
   "outputs": [],
   "source": [
    "net=LeNet()"
   ]
  },
  {
   "cell_type": "code",
   "execution_count": 28,
   "id": "67edf2f8-84b6-4938-8d20-e280c6203301",
   "metadata": {},
   "outputs": [],
   "source": [
    "import torch.optim as optim\n",
    "\n",
    "loss_fn=nn.CrossEntropyLoss()\n",
    "opt=optim.Adam(net.parameters())"
   ]
  },
  {
   "cell_type": "code",
   "execution_count": 29,
   "id": "8daa09f7-a2ba-44a6-b009-0551e81fce7b",
   "metadata": {},
   "outputs": [
    {
     "name": "stdout",
     "output_type": "stream",
     "text": [
      "epoch : 0/1, Test acc : 10.00, Train acc : 10.00\n"
     ]
    },
    {
     "data": {
      "image/png": "[encoded data removed]",
      "text/plain": [
       "<Figure size 640x480 with 1 Axes>"
      ]
     },
     "metadata": {},
     "output_type": "display_data"
    },
    {
     "name": "stdout",
     "output_type": "stream",
     "text": [
      "CPU times: user 1min 49s, sys: 2.85 s, total: 1min 52s\n",
      "Wall time: 20.9 s\n"
     ]
    }
   ],
   "source": [
    "%%time\n",
    "loss_arr=[]\n",
    "loss_epoch_arr=[]\n",
    "max_epochs=1\n",
    "\n",
    "for epoch in range(max_epochs):\n",
    "  for i,data in enumerate(trainloader,0):\n",
    "    \n",
    "    inputs,labels=data\n",
    "\n",
    "    opt.zero_grad()\n",
    "\n",
    "    outputs=net(inputs)\n",
    "    loss=loss_fn(outputs,labels)\n",
    "    loss.backward()\n",
    "    opt.step()\n",
    "\n",
    "    loss_arr.append(loss.item())\n",
    "    break\n",
    "\n",
    "  loss_epoch_arr.append(loss.item())\n",
    "\n",
    "  print('epoch : %d/%d, Test acc : %0.2f, Train acc : %0.2f' % (epoch,max_epochs,evaluation(testloader),evaluation(trainloader)))\n",
    "\n",
    "plt.plot(loss_epoch_arr)\n",
    "plt.show()"
   ]
  },
  {
   "cell_type": "code",
   "execution_count": 30,
   "id": "a19a5025-5cdd-433c-abea-1f13f843fc07",
   "metadata": {},
   "outputs": [
    {
     "data": {
      "text/plain": [
       "device(type='cuda', index=0)"
      ]
     },
     "execution_count": 30,
     "metadata": {},
     "output_type": "execute_result"
    }
   ],
   "source": [
    "device = torch.device(\"cuda:0\" if torch.cuda.is_available() else \"cpu\")\n",
    "device"
   ]
  },
  {
   "cell_type": "code",
   "execution_count": 31,
   "id": "76c7da66-089f-4025-a141-62cdf0c80ef2",
   "metadata": {},
   "outputs": [],
   "source": [
    "def evaluation(dataloader):  #for computing accuracy\n",
    "    total, correct = 0, 0\n",
    "    for data in dataloader:\n",
    "        inputs, labels = data\n",
    "        inputs, labels = inputs.to(device),labels.to(device)\n",
    "        outputs = net(inputs)\n",
    "        _, pred = torch.max(outputs.data, 1)\n",
    "        total += labels.size(0)\n",
    "        correct += (pred == labels).sum().item()\n",
    "    return 100 * correct / total"
   ]
  },
  {
   "cell_type": "code",
   "execution_count": 32,
   "id": "7f6883c7-4f2f-46b8-9512-052e47e416e4",
   "metadata": {},
   "outputs": [],
   "source": [
    "net=LeNet().to(device)\n",
    "loss_fn = nn.CrossEntropyLoss()\n",
    "opt = optim.Adam(net.parameters())"
   ]
  },
  {
   "cell_type": "code",
   "execution_count": 33,
   "id": "fa0aa6fe-0ae8-45cc-a67d-449f0830cb9e",
   "metadata": {},
   "outputs": [
    {
     "name": "stdout",
     "output_type": "stream",
     "text": [
      "epoch : 0/16, Test acc : 38.74, Train acc : 38.55\n",
      "epoch : 1/16, Test acc : 44.28, Train acc : 44.31\n",
      "epoch : 2/16, Test acc : 47.98, Train acc : 48.39\n",
      "epoch : 3/16, Test acc : 49.12, Train acc : 50.51\n",
      "epoch : 4/16, Test acc : 49.82, Train acc : 51.64\n",
      "epoch : 5/16, Test acc : 52.11, Train acc : 54.75\n",
      "epoch : 6/16, Test acc : 52.94, Train acc : 55.63\n",
      "epoch : 7/16, Test acc : 52.80, Train acc : 56.96\n",
      "epoch : 8/16, Test acc : 53.96, Train acc : 58.81\n",
      "epoch : 9/16, Test acc : 54.50, Train acc : 59.46\n",
      "epoch : 10/16, Test acc : 54.65, Train acc : 60.92\n",
      "epoch : 11/16, Test acc : 54.85, Train acc : 61.59\n",
      "epoch : 12/16, Test acc : 55.13, Train acc : 62.70\n",
      "epoch : 13/16, Test acc : 55.32, Train acc : 63.49\n",
      "epoch : 14/16, Test acc : 55.42, Train acc : 64.58\n",
      "epoch : 15/16, Test acc : 55.65, Train acc : 65.09\n"
     ]
    },
    {
     "data": {
      "image/png": "[encoded data removed]",
      "text/plain": [
       "<Figure size 640x480 with 1 Axes>"
      ]
     },
     "metadata": {},
     "output_type": "display_data"
    },
    {
     "name": "stdout",
     "output_type": "stream",
     "text": [
      "CPU times: user 4min 14s, sys: 1.12 s, total: 4min 15s\n",
      "Wall time: 4min 8s\n"
     ]
    }
   ],
   "source": [
    "%%time\n",
    "loss_arr=[]\n",
    "loss_epoch_arr=[]\n",
    "max_epochs=16\n",
    "\n",
    "for epoch in range(max_epochs):\n",
    "  for i,data in enumerate(trainloader,0):\n",
    "    \n",
    "    inputs,labels=data\n",
    "    inputs,labels=inputs.to(device),labels.to(device)\n",
    "\n",
    "    opt.zero_grad()\n",
    "\n",
    "    outputs=net(inputs)\n",
    "    loss=loss_fn(outputs,labels)\n",
    "    loss.backward()\n",
    "    opt.step()\n",
    "\n",
    "    loss_arr.append(loss.item())\n",
    "\n",
    "  loss_epoch_arr.append(loss.item())\n",
    "\n",
    "  print('epoch : %d/%d, Test acc : %0.2f, Train acc : %0.2f' % (epoch,max_epochs,evaluation(testloader),evaluation(trainloader)))\n",
    "\n",
    "plt.plot(loss_epoch_arr)\n",
    "plt.show()"
   ]
  },
  {
   "cell_type": "code",
   "execution_count": null,
   "id": "b14b5233-d7f1-43b5-9cc7-9d2b053164e4",
   "metadata": {},
   "outputs": [],
   "source": []
  }
 ],
 "metadata": {
  "kernelspec": {
   "display_name": "Python 3 (ipykernel)",
   "language": "python",
   "name": "python3"
  },
  "language_info": {
   "codemirror_mode": {
    "name": "ipython",
    "version": 3
   },
   "file_extension": ".py",
   "mimetype": "text/x-python",
   "name": "python",
   "nbconvert_exporter": "python",
   "pygments_lexer": "ipython3",
   "version": "3.10.6"
  }
 },
 "nbformat": 4,
 "nbformat_minor": 5
}
